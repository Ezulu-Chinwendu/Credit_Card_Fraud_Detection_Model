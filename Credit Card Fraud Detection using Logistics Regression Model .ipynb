{
 "cells": [
  {
   "cell_type": "markdown",
   "id": "f915de3d-fb06-4887-bae7-6b8fff160fa3",
   "metadata": {},
   "source": [
    "# Credit Card Fraud Detection Model \n",
    "## By\n",
    "# Ezulu Priscilla Chinwendu"
   ]
  },
  {
   "cell_type": "markdown",
   "id": "f91fd666",
   "metadata": {},
   "source": [
    "### CREDIT CARD FRAUD PREDICTION USING LOGISTICS REGRESSION MODEL\n",
    "Digital payments are evolving, but so are cyber criminalities. According to the Data Breach Index, more than 5 million records are being stolen on a daily basis, a concerning statistics that shows fraud is still very common both for card-present and card-not present type of payments despite available methods of fraud prevention. In today’s digital world where trillions of Card transaction happens per day, detection of fraud is challenging and hence, the need for adoption of machine learning approach. In this work, I will build a mchine learning (logistic regression) model to predict fraudulent transaction by combining various characteristics of transactions.\n",
    "\n",
    "### Dataset\n",
    "The dataset used in this project was downloaded from https://www.kaggle.com/datasets/dhanushnarayananr/credit-card-fraud.\n",
    " - Feature Explanation:\n",
    "   - distancefromhome - the distance from account owner's home to where the transaction happened.\n",
    "   - distancefromlast_transaction - the distance from last transaction happened.\n",
    "   - ratiotomedianpurchaseprice - Ratio of purchased price transaction to median purchase price.\n",
    "   - repeat_retailer - Is the transaction happened from same retailer.\n",
    "   - used_chip - Is the transaction through chip (credit card).\n",
    "   - usedpinnumber - DId the transaction happened by using PIN number.\n",
    "   - online_order - Was the transaction for an online order.\n",
    "   - fraud - Is the transaction fraudulent.\n",
    "     \n",
    "### Model Development\n",
    "One significant challenge in building a fraud detection model is the imbalance in the fraud dataset. Fraud-free transactions are naturally much more prevalent than fraudulent ones, resulting in inherently unbalanced datasets. In this case, only 8.74% of the transactions are fraudulent. Machine learning models generally struggle with unbalanced data, often leading to poor performance. This approach involves fitting a logistic regression model to the dataset, evaluating its performance, and then applying techniques to address the rare class problem to determine if model performance can be improved."
   ]
  },
  {
   "cell_type": "markdown",
   "id": "9bf865f9",
   "metadata": {},
   "source": [
    "### Library and Data Importation"
   ]
  },
  {
   "cell_type": "code",
   "execution_count": 86,
   "id": "539704fb",
   "metadata": {},
   "outputs": [],
   "source": [
    "#importation of libraries\n",
    "import pandas as pd\n",
    "import numpy as np\n",
    "import matplotlib.pyplot as plt\n",
    "%matplotlib inline\n",
    "import seaborn as sns"
   ]
  },
  {
   "cell_type": "code",
   "execution_count": 87,
   "id": "5dc29436",
   "metadata": {},
   "outputs": [],
   "source": [
    "# Loading the dataset\n",
    "df = pd.read_csv('credit_card_transaction_data.csv')"
   ]
  },
  {
   "cell_type": "markdown",
   "id": "0ce1c860",
   "metadata": {},
   "source": [
    "### Exploratory Data Analysis"
   ]
  },
  {
   "cell_type": "code",
   "execution_count": 88,
   "id": "2f875c19",
   "metadata": {},
   "outputs": [
    {
     "data": {
      "text/html": [
       "<div>\n",
       "<style scoped>\n",
       "    .dataframe tbody tr th:only-of-type {\n",
       "        vertical-align: middle;\n",
       "    }\n",
       "\n",
       "    .dataframe tbody tr th {\n",
       "        vertical-align: top;\n",
       "    }\n",
       "\n",
       "    .dataframe thead th {\n",
       "        text-align: right;\n",
       "    }\n",
       "</style>\n",
       "<table border=\"1\" class=\"dataframe\">\n",
       "  <thead>\n",
       "    <tr style=\"text-align: right;\">\n",
       "      <th></th>\n",
       "      <th>distance_from_home</th>\n",
       "      <th>distance_from_last_transaction</th>\n",
       "      <th>ratio_to_median_purchase_price</th>\n",
       "      <th>repeat_retailer</th>\n",
       "      <th>used_chip</th>\n",
       "      <th>used_pin_number</th>\n",
       "      <th>online_order</th>\n",
       "      <th>fraud</th>\n",
       "    </tr>\n",
       "  </thead>\n",
       "  <tbody>\n",
       "    <tr>\n",
       "      <th>0</th>\n",
       "      <td>57.877857</td>\n",
       "      <td>0.311140</td>\n",
       "      <td>1.945940</td>\n",
       "      <td>1.0</td>\n",
       "      <td>1.0</td>\n",
       "      <td>0.0</td>\n",
       "      <td>0.0</td>\n",
       "      <td>0.0</td>\n",
       "    </tr>\n",
       "    <tr>\n",
       "      <th>1</th>\n",
       "      <td>10.829943</td>\n",
       "      <td>0.175592</td>\n",
       "      <td>1.294219</td>\n",
       "      <td>1.0</td>\n",
       "      <td>0.0</td>\n",
       "      <td>0.0</td>\n",
       "      <td>0.0</td>\n",
       "      <td>0.0</td>\n",
       "    </tr>\n",
       "    <tr>\n",
       "      <th>2</th>\n",
       "      <td>5.091079</td>\n",
       "      <td>0.805153</td>\n",
       "      <td>0.427715</td>\n",
       "      <td>1.0</td>\n",
       "      <td>0.0</td>\n",
       "      <td>0.0</td>\n",
       "      <td>1.0</td>\n",
       "      <td>0.0</td>\n",
       "    </tr>\n",
       "    <tr>\n",
       "      <th>3</th>\n",
       "      <td>2.247564</td>\n",
       "      <td>5.600044</td>\n",
       "      <td>0.362663</td>\n",
       "      <td>1.0</td>\n",
       "      <td>1.0</td>\n",
       "      <td>0.0</td>\n",
       "      <td>1.0</td>\n",
       "      <td>0.0</td>\n",
       "    </tr>\n",
       "    <tr>\n",
       "      <th>4</th>\n",
       "      <td>44.190936</td>\n",
       "      <td>0.566486</td>\n",
       "      <td>2.222767</td>\n",
       "      <td>1.0</td>\n",
       "      <td>1.0</td>\n",
       "      <td>0.0</td>\n",
       "      <td>1.0</td>\n",
       "      <td>0.0</td>\n",
       "    </tr>\n",
       "  </tbody>\n",
       "</table>\n",
       "</div>"
      ],
      "text/plain": [
       "   distance_from_home  distance_from_last_transaction  \\\n",
       "0           57.877857                        0.311140   \n",
       "1           10.829943                        0.175592   \n",
       "2            5.091079                        0.805153   \n",
       "3            2.247564                        5.600044   \n",
       "4           44.190936                        0.566486   \n",
       "\n",
       "   ratio_to_median_purchase_price  repeat_retailer  used_chip  \\\n",
       "0                        1.945940              1.0        1.0   \n",
       "1                        1.294219              1.0        0.0   \n",
       "2                        0.427715              1.0        0.0   \n",
       "3                        0.362663              1.0        1.0   \n",
       "4                        2.222767              1.0        1.0   \n",
       "\n",
       "   used_pin_number  online_order  fraud  \n",
       "0              0.0           0.0    0.0  \n",
       "1              0.0           0.0    0.0  \n",
       "2              0.0           1.0    0.0  \n",
       "3              0.0           1.0    0.0  \n",
       "4              0.0           1.0    0.0  "
      ]
     },
     "execution_count": 88,
     "metadata": {},
     "output_type": "execute_result"
    }
   ],
   "source": [
    "# To view first 5 rows\n",
    "df.head()"
   ]
  },
  {
   "cell_type": "code",
   "execution_count": 89,
   "id": "5c4bdcee",
   "metadata": {},
   "outputs": [
    {
     "name": "stdout",
     "output_type": "stream",
     "text": [
      "<class 'pandas.core.frame.DataFrame'>\n",
      "RangeIndex: 1000000 entries, 0 to 999999\n",
      "Data columns (total 8 columns):\n",
      " #   Column                          Non-Null Count    Dtype  \n",
      "---  ------                          --------------    -----  \n",
      " 0   distance_from_home              1000000 non-null  float64\n",
      " 1   distance_from_last_transaction  1000000 non-null  float64\n",
      " 2   ratio_to_median_purchase_price  1000000 non-null  float64\n",
      " 3   repeat_retailer                 1000000 non-null  float64\n",
      " 4   used_chip                       1000000 non-null  float64\n",
      " 5   used_pin_number                 1000000 non-null  float64\n",
      " 6   online_order                    1000000 non-null  float64\n",
      " 7   fraud                           1000000 non-null  float64\n",
      "dtypes: float64(8)\n",
      "memory usage: 61.0 MB\n"
     ]
    }
   ],
   "source": [
    "#summary of the dataframe\n",
    "df.info()"
   ]
  },
  {
   "cell_type": "code",
   "execution_count": 90,
   "id": "87c57abe",
   "metadata": {},
   "outputs": [
    {
     "data": {
      "text/plain": [
       "fraud\n",
       "0.0      912597\n",
       "1.0       87403\n",
       "Name: count, dtype: int64"
      ]
     },
     "execution_count": 90,
     "metadata": {},
     "output_type": "execute_result"
    }
   ],
   "source": [
    "# Counts occurrences of each unique value in the 'fraud' column\n",
    "df[['fraud']].value_counts()"
   ]
  },
  {
   "cell_type": "markdown",
   "id": "ad5c9cf5-dfff-4a75-9afa-0d82f88a1c99",
   "metadata": {},
   "source": [
    "Observe below that out of 1 million transactions in the datasate, only 87,403 (8.74%) transactions are fraudulent"
   ]
  },
  {
   "cell_type": "code",
   "execution_count": 91,
   "id": "c1216e51",
   "metadata": {},
   "outputs": [
    {
     "data": {
      "text/html": [
       "<div>\n",
       "<style scoped>\n",
       "    .dataframe tbody tr th:only-of-type {\n",
       "        vertical-align: middle;\n",
       "    }\n",
       "\n",
       "    .dataframe tbody tr th {\n",
       "        vertical-align: top;\n",
       "    }\n",
       "\n",
       "    .dataframe thead th {\n",
       "        text-align: right;\n",
       "    }\n",
       "</style>\n",
       "<table border=\"1\" class=\"dataframe\">\n",
       "  <thead>\n",
       "    <tr style=\"text-align: right;\">\n",
       "      <th></th>\n",
       "      <th>count</th>\n",
       "      <th>mean</th>\n",
       "      <th>std</th>\n",
       "      <th>min</th>\n",
       "      <th>25%</th>\n",
       "      <th>50%</th>\n",
       "      <th>75%</th>\n",
       "      <th>max</th>\n",
       "    </tr>\n",
       "  </thead>\n",
       "  <tbody>\n",
       "    <tr>\n",
       "      <th>distance_from_home</th>\n",
       "      <td>1000000.0</td>\n",
       "      <td>26.628792</td>\n",
       "      <td>65.390784</td>\n",
       "      <td>0.004874</td>\n",
       "      <td>3.878008</td>\n",
       "      <td>9.967760</td>\n",
       "      <td>25.743985</td>\n",
       "      <td>10632.723672</td>\n",
       "    </tr>\n",
       "    <tr>\n",
       "      <th>distance_from_last_transaction</th>\n",
       "      <td>1000000.0</td>\n",
       "      <td>5.036519</td>\n",
       "      <td>25.843093</td>\n",
       "      <td>0.000118</td>\n",
       "      <td>0.296671</td>\n",
       "      <td>0.998650</td>\n",
       "      <td>3.355748</td>\n",
       "      <td>11851.104565</td>\n",
       "    </tr>\n",
       "    <tr>\n",
       "      <th>ratio_to_median_purchase_price</th>\n",
       "      <td>1000000.0</td>\n",
       "      <td>1.824182</td>\n",
       "      <td>2.799589</td>\n",
       "      <td>0.004399</td>\n",
       "      <td>0.475673</td>\n",
       "      <td>0.997717</td>\n",
       "      <td>2.096370</td>\n",
       "      <td>267.802942</td>\n",
       "    </tr>\n",
       "    <tr>\n",
       "      <th>repeat_retailer</th>\n",
       "      <td>1000000.0</td>\n",
       "      <td>0.881536</td>\n",
       "      <td>0.323157</td>\n",
       "      <td>0.000000</td>\n",
       "      <td>1.000000</td>\n",
       "      <td>1.000000</td>\n",
       "      <td>1.000000</td>\n",
       "      <td>1.000000</td>\n",
       "    </tr>\n",
       "    <tr>\n",
       "      <th>used_chip</th>\n",
       "      <td>1000000.0</td>\n",
       "      <td>0.350399</td>\n",
       "      <td>0.477095</td>\n",
       "      <td>0.000000</td>\n",
       "      <td>0.000000</td>\n",
       "      <td>0.000000</td>\n",
       "      <td>1.000000</td>\n",
       "      <td>1.000000</td>\n",
       "    </tr>\n",
       "    <tr>\n",
       "      <th>used_pin_number</th>\n",
       "      <td>1000000.0</td>\n",
       "      <td>0.100608</td>\n",
       "      <td>0.300809</td>\n",
       "      <td>0.000000</td>\n",
       "      <td>0.000000</td>\n",
       "      <td>0.000000</td>\n",
       "      <td>0.000000</td>\n",
       "      <td>1.000000</td>\n",
       "    </tr>\n",
       "    <tr>\n",
       "      <th>online_order</th>\n",
       "      <td>1000000.0</td>\n",
       "      <td>0.650552</td>\n",
       "      <td>0.476796</td>\n",
       "      <td>0.000000</td>\n",
       "      <td>0.000000</td>\n",
       "      <td>1.000000</td>\n",
       "      <td>1.000000</td>\n",
       "      <td>1.000000</td>\n",
       "    </tr>\n",
       "    <tr>\n",
       "      <th>fraud</th>\n",
       "      <td>1000000.0</td>\n",
       "      <td>0.087403</td>\n",
       "      <td>0.282425</td>\n",
       "      <td>0.000000</td>\n",
       "      <td>0.000000</td>\n",
       "      <td>0.000000</td>\n",
       "      <td>0.000000</td>\n",
       "      <td>1.000000</td>\n",
       "    </tr>\n",
       "  </tbody>\n",
       "</table>\n",
       "</div>"
      ],
      "text/plain": [
       "                                    count       mean        std       min  \\\n",
       "distance_from_home              1000000.0  26.628792  65.390784  0.004874   \n",
       "distance_from_last_transaction  1000000.0   5.036519  25.843093  0.000118   \n",
       "ratio_to_median_purchase_price  1000000.0   1.824182   2.799589  0.004399   \n",
       "repeat_retailer                 1000000.0   0.881536   0.323157  0.000000   \n",
       "used_chip                       1000000.0   0.350399   0.477095  0.000000   \n",
       "used_pin_number                 1000000.0   0.100608   0.300809  0.000000   \n",
       "online_order                    1000000.0   0.650552   0.476796  0.000000   \n",
       "fraud                           1000000.0   0.087403   0.282425  0.000000   \n",
       "\n",
       "                                     25%       50%        75%           max  \n",
       "distance_from_home              3.878008  9.967760  25.743985  10632.723672  \n",
       "distance_from_last_transaction  0.296671  0.998650   3.355748  11851.104565  \n",
       "ratio_to_median_purchase_price  0.475673  0.997717   2.096370    267.802942  \n",
       "repeat_retailer                 1.000000  1.000000   1.000000      1.000000  \n",
       "used_chip                       0.000000  0.000000   1.000000      1.000000  \n",
       "used_pin_number                 0.000000  0.000000   0.000000      1.000000  \n",
       "online_order                    0.000000  1.000000   1.000000      1.000000  \n",
       "fraud                           0.000000  0.000000   0.000000      1.000000  "
      ]
     },
     "execution_count": 91,
     "metadata": {},
     "output_type": "execute_result"
    }
   ],
   "source": [
    "# Generates summary statistics for numeric columns and transposes the result\n",
    "df.describe().transpose()"
   ]
  },
  {
   "cell_type": "code",
   "execution_count": 92,
   "id": "e9ac767d",
   "metadata": {},
   "outputs": [
    {
     "data": {
      "text/html": [
       "<div>\n",
       "<style scoped>\n",
       "    .dataframe tbody tr th:only-of-type {\n",
       "        vertical-align: middle;\n",
       "    }\n",
       "\n",
       "    .dataframe tbody tr th {\n",
       "        vertical-align: top;\n",
       "    }\n",
       "\n",
       "    .dataframe thead th {\n",
       "        text-align: right;\n",
       "    }\n",
       "</style>\n",
       "<table border=\"1\" class=\"dataframe\">\n",
       "  <thead>\n",
       "    <tr style=\"text-align: right;\">\n",
       "      <th></th>\n",
       "      <th>distance_from_home</th>\n",
       "      <th>distance_from_last_transaction</th>\n",
       "      <th>ratio_to_median_purchase_price</th>\n",
       "      <th>repeat_retailer</th>\n",
       "      <th>used_chip</th>\n",
       "      <th>used_pin_number</th>\n",
       "      <th>online_order</th>\n",
       "      <th>fraud</th>\n",
       "    </tr>\n",
       "  </thead>\n",
       "  <tbody>\n",
       "    <tr>\n",
       "      <th>13</th>\n",
       "      <td>2.131956</td>\n",
       "      <td>56.372401</td>\n",
       "      <td>6.358667</td>\n",
       "      <td>1.0</td>\n",
       "      <td>0.0</td>\n",
       "      <td>0.0</td>\n",
       "      <td>1.0</td>\n",
       "      <td>1.0</td>\n",
       "    </tr>\n",
       "    <tr>\n",
       "      <th>24</th>\n",
       "      <td>3.803057</td>\n",
       "      <td>67.241081</td>\n",
       "      <td>1.872950</td>\n",
       "      <td>1.0</td>\n",
       "      <td>0.0</td>\n",
       "      <td>0.0</td>\n",
       "      <td>1.0</td>\n",
       "      <td>1.0</td>\n",
       "    </tr>\n",
       "    <tr>\n",
       "      <th>29</th>\n",
       "      <td>15.694986</td>\n",
       "      <td>175.989182</td>\n",
       "      <td>0.855623</td>\n",
       "      <td>1.0</td>\n",
       "      <td>0.0</td>\n",
       "      <td>0.0</td>\n",
       "      <td>1.0</td>\n",
       "      <td>1.0</td>\n",
       "    </tr>\n",
       "    <tr>\n",
       "      <th>35</th>\n",
       "      <td>26.711462</td>\n",
       "      <td>1.552008</td>\n",
       "      <td>4.603601</td>\n",
       "      <td>1.0</td>\n",
       "      <td>1.0</td>\n",
       "      <td>0.0</td>\n",
       "      <td>1.0</td>\n",
       "      <td>1.0</td>\n",
       "    </tr>\n",
       "    <tr>\n",
       "      <th>36</th>\n",
       "      <td>10.664474</td>\n",
       "      <td>1.565769</td>\n",
       "      <td>4.886521</td>\n",
       "      <td>1.0</td>\n",
       "      <td>0.0</td>\n",
       "      <td>0.0</td>\n",
       "      <td>1.0</td>\n",
       "      <td>1.0</td>\n",
       "    </tr>\n",
       "    <tr>\n",
       "      <th>...</th>\n",
       "      <td>...</td>\n",
       "      <td>...</td>\n",
       "      <td>...</td>\n",
       "      <td>...</td>\n",
       "      <td>...</td>\n",
       "      <td>...</td>\n",
       "      <td>...</td>\n",
       "      <td>...</td>\n",
       "    </tr>\n",
       "    <tr>\n",
       "      <th>999908</th>\n",
       "      <td>45.296658</td>\n",
       "      <td>0.882736</td>\n",
       "      <td>8.856861</td>\n",
       "      <td>1.0</td>\n",
       "      <td>0.0</td>\n",
       "      <td>0.0</td>\n",
       "      <td>1.0</td>\n",
       "      <td>1.0</td>\n",
       "    </tr>\n",
       "    <tr>\n",
       "      <th>999916</th>\n",
       "      <td>167.139756</td>\n",
       "      <td>0.282253</td>\n",
       "      <td>0.308468</td>\n",
       "      <td>1.0</td>\n",
       "      <td>0.0</td>\n",
       "      <td>0.0</td>\n",
       "      <td>1.0</td>\n",
       "      <td>1.0</td>\n",
       "    </tr>\n",
       "    <tr>\n",
       "      <th>999919</th>\n",
       "      <td>124.640118</td>\n",
       "      <td>0.004416</td>\n",
       "      <td>0.434885</td>\n",
       "      <td>1.0</td>\n",
       "      <td>0.0</td>\n",
       "      <td>0.0</td>\n",
       "      <td>1.0</td>\n",
       "      <td>1.0</td>\n",
       "    </tr>\n",
       "    <tr>\n",
       "      <th>999939</th>\n",
       "      <td>51.412900</td>\n",
       "      <td>3.429330</td>\n",
       "      <td>29.914254</td>\n",
       "      <td>1.0</td>\n",
       "      <td>0.0</td>\n",
       "      <td>0.0</td>\n",
       "      <td>1.0</td>\n",
       "      <td>1.0</td>\n",
       "    </tr>\n",
       "    <tr>\n",
       "      <th>999949</th>\n",
       "      <td>15.724799</td>\n",
       "      <td>1.875906</td>\n",
       "      <td>11.009366</td>\n",
       "      <td>1.0</td>\n",
       "      <td>1.0</td>\n",
       "      <td>0.0</td>\n",
       "      <td>1.0</td>\n",
       "      <td>1.0</td>\n",
       "    </tr>\n",
       "  </tbody>\n",
       "</table>\n",
       "<p>87403 rows × 8 columns</p>\n",
       "</div>"
      ],
      "text/plain": [
       "        distance_from_home  distance_from_last_transaction  \\\n",
       "13                2.131956                       56.372401   \n",
       "24                3.803057                       67.241081   \n",
       "29               15.694986                      175.989182   \n",
       "35               26.711462                        1.552008   \n",
       "36               10.664474                        1.565769   \n",
       "...                    ...                             ...   \n",
       "999908           45.296658                        0.882736   \n",
       "999916          167.139756                        0.282253   \n",
       "999919          124.640118                        0.004416   \n",
       "999939           51.412900                        3.429330   \n",
       "999949           15.724799                        1.875906   \n",
       "\n",
       "        ratio_to_median_purchase_price  repeat_retailer  used_chip  \\\n",
       "13                            6.358667              1.0        0.0   \n",
       "24                            1.872950              1.0        0.0   \n",
       "29                            0.855623              1.0        0.0   \n",
       "35                            4.603601              1.0        1.0   \n",
       "36                            4.886521              1.0        0.0   \n",
       "...                                ...              ...        ...   \n",
       "999908                        8.856861              1.0        0.0   \n",
       "999916                        0.308468              1.0        0.0   \n",
       "999919                        0.434885              1.0        0.0   \n",
       "999939                       29.914254              1.0        0.0   \n",
       "999949                       11.009366              1.0        1.0   \n",
       "\n",
       "        used_pin_number  online_order  fraud  \n",
       "13                  0.0           1.0    1.0  \n",
       "24                  0.0           1.0    1.0  \n",
       "29                  0.0           1.0    1.0  \n",
       "35                  0.0           1.0    1.0  \n",
       "36                  0.0           1.0    1.0  \n",
       "...                 ...           ...    ...  \n",
       "999908              0.0           1.0    1.0  \n",
       "999916              0.0           1.0    1.0  \n",
       "999919              0.0           1.0    1.0  \n",
       "999939              0.0           1.0    1.0  \n",
       "999949              0.0           1.0    1.0  \n",
       "\n",
       "[87403 rows x 8 columns]"
      ]
     },
     "execution_count": 92,
     "metadata": {},
     "output_type": "execute_result"
    }
   ],
   "source": [
    "# Filters rows where 'fraud' is 1 and assigns them to df_fraud\n",
    "df_fraud = df.loc[df['fraud'] == 1]\n",
    "\n",
    "# Displays the filtered DataFrame\n",
    "df_fraud"
   ]
  },
  {
   "cell_type": "code",
   "execution_count": 93,
   "id": "53a93df9",
   "metadata": {},
   "outputs": [
    {
     "data": {
      "text/html": [
       "<div>\n",
       "<style scoped>\n",
       "    .dataframe tbody tr th:only-of-type {\n",
       "        vertical-align: middle;\n",
       "    }\n",
       "\n",
       "    .dataframe tbody tr th {\n",
       "        vertical-align: top;\n",
       "    }\n",
       "\n",
       "    .dataframe thead th {\n",
       "        text-align: right;\n",
       "    }\n",
       "</style>\n",
       "<table border=\"1\" class=\"dataframe\">\n",
       "  <thead>\n",
       "    <tr style=\"text-align: right;\">\n",
       "      <th></th>\n",
       "      <th>distance_from_home</th>\n",
       "      <th>distance_from_last_transaction</th>\n",
       "      <th>ratio_to_median_purchase_price</th>\n",
       "      <th>repeat_retailer</th>\n",
       "      <th>used_chip</th>\n",
       "      <th>used_pin_number</th>\n",
       "      <th>online_order</th>\n",
       "    </tr>\n",
       "    <tr>\n",
       "      <th>fraud</th>\n",
       "      <th></th>\n",
       "      <th></th>\n",
       "      <th></th>\n",
       "      <th></th>\n",
       "      <th></th>\n",
       "      <th></th>\n",
       "      <th></th>\n",
       "    </tr>\n",
       "  </thead>\n",
       "  <tbody>\n",
       "    <tr>\n",
       "      <th>0.0</th>\n",
       "      <td>22.832976</td>\n",
       "      <td>4.301391</td>\n",
       "      <td>1.423642</td>\n",
       "      <td>0.881672</td>\n",
       "      <td>0.359402</td>\n",
       "      <td>0.109944</td>\n",
       "      <td>0.622225</td>\n",
       "    </tr>\n",
       "    <tr>\n",
       "      <th>1.0</th>\n",
       "      <td>66.261876</td>\n",
       "      <td>12.712185</td>\n",
       "      <td>6.006323</td>\n",
       "      <td>0.880119</td>\n",
       "      <td>0.256399</td>\n",
       "      <td>0.003123</td>\n",
       "      <td>0.946318</td>\n",
       "    </tr>\n",
       "  </tbody>\n",
       "</table>\n",
       "</div>"
      ],
      "text/plain": [
       "       distance_from_home  distance_from_last_transaction  \\\n",
       "fraud                                                       \n",
       "0.0             22.832976                        4.301391   \n",
       "1.0             66.261876                       12.712185   \n",
       "\n",
       "       ratio_to_median_purchase_price  repeat_retailer  used_chip  \\\n",
       "fraud                                                               \n",
       "0.0                          1.423642         0.881672   0.359402   \n",
       "1.0                          6.006323         0.880119   0.256399   \n",
       "\n",
       "       used_pin_number  online_order  \n",
       "fraud                                 \n",
       "0.0           0.109944      0.622225  \n",
       "1.0           0.003123      0.946318  "
      ]
     },
     "execution_count": 93,
     "metadata": {},
     "output_type": "execute_result"
    }
   ],
   "source": [
    "# Calculates the mean value of each feature, grouped by 'fraud' (fraudulent and non-fraudulent transactions)\n",
    "df.groupby('fraud').mean()"
   ]
  },
  {
   "cell_type": "code",
   "execution_count": 94,
   "id": "845b91bb",
   "metadata": {},
   "outputs": [
    {
     "data": {
      "text/plain": [
       "<Axes: xlabel='fraud', ylabel='count'>"
      ]
     },
     "execution_count": 94,
     "metadata": {},
     "output_type": "execute_result"
    },
    {
     "data": {
      "image/png": "[encoded data removed]",
      "text/plain": [
       "<Figure size 640x480 with 1 Axes>"
      ]
     },
     "metadata": {},
     "output_type": "display_data"
    }
   ],
   "source": [
    "# Visualizing the count plot and the unbalanced nature of the dataset\n",
    "sns.countplot(x = 'fraud', data = df)"
   ]
  },
  {
   "cell_type": "code",
   "execution_count": 95,
   "id": "66b5d911",
   "metadata": {},
   "outputs": [
    {
     "data": {
      "text/plain": [
       "used_pin_number                  -0.100293\n",
       "used_chip                        -0.060975\n",
       "repeat_retailer                  -0.001357\n",
       "distance_from_last_transaction    0.091917\n",
       "distance_from_home                0.187571\n",
       "online_order                      0.191973\n",
       "ratio_to_median_purchase_price    0.462305\n",
       "fraud                             1.000000\n",
       "Name: fraud, dtype: float64"
      ]
     },
     "execution_count": 95,
     "metadata": {},
     "output_type": "execute_result"
    }
   ],
   "source": [
    "# Correlation of each of the variables with fraud\n",
    "df.corr()['fraud'].sort_values()"
   ]
  },
  {
   "cell_type": "code",
   "execution_count": 96,
   "id": "da12db02",
   "metadata": {},
   "outputs": [
    {
     "data": {
      "text/plain": [
       "<Axes: >"
      ]
     },
     "execution_count": 96,
     "metadata": {},
     "output_type": "execute_result"
    },
    {
     "data": {
      "image/png": "[encoded data removed]",
      "text/plain": [
       "<Figure size 640x480 with 2 Axes>"
      ]
     },
     "metadata": {},
     "output_type": "display_data"
    }
   ],
   "source": [
    "# Visualizes the correlation matrix of features using a heatmap\n",
    "sns.heatmap(df.corr())"
   ]
  },
  {
   "cell_type": "code",
   "execution_count": 97,
   "id": "22bbb6d0",
   "metadata": {},
   "outputs": [
    {
     "data": {
      "text/plain": [
       "<Axes: >"
      ]
     },
     "execution_count": 97,
     "metadata": {},
     "output_type": "execute_result"
    },
    {
     "data": {
      "image/png": "[encoded data removed]",
      "text/plain": [
       "<Figure size 640x480 with 1 Axes>"
      ]
     },
     "metadata": {},
     "output_type": "display_data"
    }
   ],
   "source": [
    "# visualizing the correlation\n",
    "df.corr()['fraud'][:-1].sort_values().plot(kind='bar')"
   ]
  },
  {
   "cell_type": "markdown",
   "id": "a017e17f",
   "metadata": {},
   "source": [
    "To further explore the variables with significant correlations with fraud"
   ]
  },
  {
   "cell_type": "code",
   "execution_count": 98,
   "id": "886558ab",
   "metadata": {},
   "outputs": [
    {
     "data": {
      "text/plain": [
       "<Axes: xlabel='fraud', ylabel='ratio_to_median_purchase_price'>"
      ]
     },
     "execution_count": 98,
     "metadata": {},
     "output_type": "execute_result"
    },
    {
     "data": {
      "image/png": "[encoded data removed]",
      "text/plain": [
       "<Figure size 640x480 with 1 Axes>"
      ]
     },
     "metadata": {},
     "output_type": "display_data"
    }
   ],
   "source": [
    "# Creates a boxplot to compare the distribution of 'ratio_to_median_purchase_price'\n",
    "# between fraudulent (fraud=1) and non-fraudulent (fraud=0) transactions\n",
    "sns.boxplot(x='fraud', y='ratio_to_median_purchase_price', data=df)\n"
   ]
  },
  {
   "cell_type": "code",
   "execution_count": 99,
   "id": "933e6433",
   "metadata": {},
   "outputs": [
    {
     "data": {
      "text/plain": [
       "<Axes: xlabel='fraud', ylabel='count'>"
      ]
     },
     "execution_count": 99,
     "metadata": {},
     "output_type": "execute_result"
    },
    {
     "data": {
      "image/png": "[encoded data removed]",
      "text/plain": [
       "<Figure size 640x480 with 1 Axes>"
      ]
     },
     "metadata": {},
     "output_type": "display_data"
    }
   ],
   "source": [
    "# Displays the count of fraudulent vs. non-fraudulent transactions, \n",
    "# categorized by whether the order is online or not\n",
    "sns.countplot(x='fraud', hue='online_order', data=df)\n"
   ]
  },
  {
   "cell_type": "markdown",
   "id": "3cc5f572-6352-483a-93b1-bbc43673939d",
   "metadata": {},
   "source": [
    "Online orders are more likely to be fraudulent"
   ]
  },
  {
   "cell_type": "code",
   "execution_count": 100,
   "id": "012921ed",
   "metadata": {},
   "outputs": [
    {
     "data": {
      "text/plain": [
       "<Axes: xlabel='fraud', ylabel='count'>"
      ]
     },
     "execution_count": 100,
     "metadata": {},
     "output_type": "execute_result"
    },
    {
     "data": {
      "image/png": "[encoded data removed]",
      "text/plain": [
       "<Figure size 640x480 with 1 Axes>"
      ]
     },
     "metadata": {},
     "output_type": "display_data"
    }
   ],
   "source": [
    "## Displays the count of fraudulent vs. non-fraudulent transactions, \n",
    "# categorized by whether the used pin number or not\n",
    "sns.countplot(x='fraud',hue='used_pin_number',data=df)"
   ]
  },
  {
   "cell_type": "markdown",
   "id": "42ba8bdb-73b9-472a-96c7-8f6361c3b5d1",
   "metadata": {},
   "source": [
    "Transactions are less likely to be fraudulent when pin numbers are used"
   ]
  },
  {
   "cell_type": "code",
   "execution_count": 101,
   "id": "bd7555f9",
   "metadata": {},
   "outputs": [
    {
     "data": {
      "text/plain": [
       "<Axes: xlabel='fraud', ylabel='distance_from_home'>"
      ]
     },
     "execution_count": 101,
     "metadata": {},
     "output_type": "execute_result"
    },
    {
     "data": {
      "image/png": "[encoded data removed]",
      "text/plain": [
       "<Figure size 640x480 with 1 Axes>"
      ]
     },
     "metadata": {},
     "output_type": "display_data"
    }
   ],
   "source": [
    "# Creating a boxplot to comparefraudulent vs. non-fraudulent transactions by distance from home\n",
    "sns.boxplot(x='fraud',y='distance_from_home',data=df)"
   ]
  },
  {
   "cell_type": "markdown",
   "id": "c1a083ca",
   "metadata": {},
   "source": [
    "## Data Preparation and Model Training"
   ]
  },
  {
   "cell_type": "code",
   "execution_count": 102,
   "id": "01c49991",
   "metadata": {},
   "outputs": [],
   "source": [
    "# Imports the train_test_split function to split data into training and test sets\n",
    "from sklearn.model_selection import train_test_split"
   ]
  },
  {
   "cell_type": "code",
   "execution_count": 103,
   "id": "983efd52",
   "metadata": {},
   "outputs": [],
   "source": [
    "# Separating features (X) from the target variable (y) by dropping the 'fraud' column\n",
    "X = df.drop('fraud', axis=1)\n",
    "y = df['fraud']"
   ]
  },
  {
   "cell_type": "code",
   "execution_count": 104,
   "id": "1c9ba522",
   "metadata": {},
   "outputs": [],
   "source": [
    "# Splits the data into training and test sets with 30% of the data used for testing\n",
    "# Ensures reproducibility with a fixed random_state\n",
    "X_train, X_test, y_train, y_test = train_test_split(X, y, test_size=0.3, random_state=43)"
   ]
  },
  {
   "cell_type": "code",
   "execution_count": 105,
   "id": "028f0ed8",
   "metadata": {},
   "outputs": [
    {
     "data": {
      "text/html": [
       "<div>\n",
       "<style scoped>\n",
       "    .dataframe tbody tr th:only-of-type {\n",
       "        vertical-align: middle;\n",
       "    }\n",
       "\n",
       "    .dataframe tbody tr th {\n",
       "        vertical-align: top;\n",
       "    }\n",
       "\n",
       "    .dataframe thead th {\n",
       "        text-align: right;\n",
       "    }\n",
       "</style>\n",
       "<table border=\"1\" class=\"dataframe\">\n",
       "  <thead>\n",
       "    <tr style=\"text-align: right;\">\n",
       "      <th></th>\n",
       "      <th>distance_from_home</th>\n",
       "      <th>distance_from_last_transaction</th>\n",
       "      <th>ratio_to_median_purchase_price</th>\n",
       "      <th>repeat_retailer</th>\n",
       "      <th>used_chip</th>\n",
       "      <th>used_pin_number</th>\n",
       "      <th>online_order</th>\n",
       "    </tr>\n",
       "  </thead>\n",
       "  <tbody>\n",
       "    <tr>\n",
       "      <th>0</th>\n",
       "      <td>-0.211056</td>\n",
       "      <td>-0.094865</td>\n",
       "      <td>1.992367</td>\n",
       "      <td>0.366168</td>\n",
       "      <td>-0.735005</td>\n",
       "      <td>-0.334095</td>\n",
       "      <td>0.732968</td>\n",
       "    </tr>\n",
       "    <tr>\n",
       "      <th>1</th>\n",
       "      <td>-0.381153</td>\n",
       "      <td>0.930823</td>\n",
       "      <td>1.836468</td>\n",
       "      <td>0.366168</td>\n",
       "      <td>1.360535</td>\n",
       "      <td>-0.334095</td>\n",
       "      <td>0.732968</td>\n",
       "    </tr>\n",
       "    <tr>\n",
       "      <th>2</th>\n",
       "      <td>-0.262578</td>\n",
       "      <td>-0.205536</td>\n",
       "      <td>-0.545305</td>\n",
       "      <td>0.366168</td>\n",
       "      <td>-0.735005</td>\n",
       "      <td>-0.334095</td>\n",
       "      <td>0.732968</td>\n",
       "    </tr>\n",
       "    <tr>\n",
       "      <th>3</th>\n",
       "      <td>-0.204920</td>\n",
       "      <td>-0.151519</td>\n",
       "      <td>0.142076</td>\n",
       "      <td>0.366168</td>\n",
       "      <td>-0.735005</td>\n",
       "      <td>-0.334095</td>\n",
       "      <td>-1.364316</td>\n",
       "    </tr>\n",
       "    <tr>\n",
       "      <th>4</th>\n",
       "      <td>-0.234033</td>\n",
       "      <td>-0.227503</td>\n",
       "      <td>-0.546827</td>\n",
       "      <td>0.366168</td>\n",
       "      <td>-0.735005</td>\n",
       "      <td>-0.334095</td>\n",
       "      <td>0.732968</td>\n",
       "    </tr>\n",
       "  </tbody>\n",
       "</table>\n",
       "</div>"
      ],
      "text/plain": [
       "   distance_from_home  distance_from_last_transaction  \\\n",
       "0           -0.211056                       -0.094865   \n",
       "1           -0.381153                        0.930823   \n",
       "2           -0.262578                       -0.205536   \n",
       "3           -0.204920                       -0.151519   \n",
       "4           -0.234033                       -0.227503   \n",
       "\n",
       "   ratio_to_median_purchase_price  repeat_retailer  used_chip  \\\n",
       "0                        1.992367         0.366168  -0.735005   \n",
       "1                        1.836468         0.366168   1.360535   \n",
       "2                       -0.545305         0.366168  -0.735005   \n",
       "3                        0.142076         0.366168  -0.735005   \n",
       "4                       -0.546827         0.366168  -0.735005   \n",
       "\n",
       "   used_pin_number  online_order  \n",
       "0        -0.334095      0.732968  \n",
       "1        -0.334095      0.732968  \n",
       "2        -0.334095      0.732968  \n",
       "3        -0.334095     -1.364316  \n",
       "4        -0.334095      0.732968  "
      ]
     },
     "execution_count": 105,
     "metadata": {},
     "output_type": "execute_result"
    }
   ],
   "source": [
    "# Imports StandardScaler to standardize features by removing the mean and scaling to unit variance\n",
    "from sklearn.preprocessing import StandardScaler\n",
    "\n",
    "# Creates an instance of StandardScaler\n",
    "scaler = StandardScaler()\n",
    "\n",
    "# Fits the scaler on the training data and transforms it\n",
    "X_trained_transformed = scaler.fit_transform(X_train)\n",
    "\n",
    "# Converts the transformed data back to a DataFrame with the original column names\n",
    "columns = X.columns\n",
    "X_trained_transformed = pd.DataFrame(X_trained_transformed, columns=columns)\n",
    "\n",
    "# Displays the first few rows of the standardized training data\n",
    "X_trained_transformed.head()"
   ]
  },
  {
   "cell_type": "code",
   "execution_count": 106,
   "id": "5658bad9",
   "metadata": {},
   "outputs": [],
   "source": [
    "# Imports the LogisticRegression class for performing logistic regression\n",
    "from sklearn.linear_model import LogisticRegression"
   ]
  },
  {
   "cell_type": "code",
   "execution_count": 107,
   "id": "14dd27c0",
   "metadata": {},
   "outputs": [],
   "source": [
    "# Creates an instance of the LogisticRegression model with a maximum of 200 iterations for convergence\n",
    "logmodel = LogisticRegression(max_iter=200)"
   ]
  },
  {
   "cell_type": "code",
   "execution_count": 108,
   "id": "409d0182",
   "metadata": {},
   "outputs": [
    {
     "data": {
      "text/html": [
       "<style>#sk-container-id-3 {\n",
       "  /* Definition of color scheme common for light and dark mode */\n",
       "  --sklearn-color-text: black;\n",
       "  --sklearn-color-line: gray;\n",
       "  /* Definition of color scheme for unfitted estimators */\n",
       "  --sklearn-color-unfitted-level-0: #fff5e6;\n",
       "  --sklearn-color-unfitted-level-1: #f6e4d2;\n",
       "  --sklearn-color-unfitted-level-2: #ffe0b3;\n",
       "  --sklearn-color-unfitted-level-3: chocolate;\n",
       "  /* Definition of color scheme for fitted estimators */\n",
       "  --sklearn-color-fitted-level-0: #f0f8ff;\n",
       "  --sklearn-color-fitted-level-1: #d4ebff;\n",
       "  --sklearn-color-fitted-level-2: #b3dbfd;\n",
       "  --sklearn-color-fitted-level-3: cornflowerblue;\n",
       "\n",
       "  /* Specific color for light theme */\n",
       "  --sklearn-color-text-on-default-background: var(--sg-text-color, var(--theme-code-foreground, var(--jp-content-font-color1, black)));\n",
       "  --sklearn-color-background: var(--sg-background-color, var(--theme-background, var(--jp-layout-color0, white)));\n",
       "  --sklearn-color-border-box: var(--sg-text-color, var(--theme-code-foreground, var(--jp-content-font-color1, black)));\n",
       "  --sklearn-color-icon: #696969;\n",
       "\n",
       "  @media (prefers-color-scheme: dark) {\n",
       "    /* Redefinition of color scheme for dark theme */\n",
       "    --sklearn-color-text-on-default-background: var(--sg-text-color, var(--theme-code-foreground, var(--jp-content-font-color1, white)));\n",
       "    --sklearn-color-background: var(--sg-background-color, var(--theme-background, var(--jp-layout-color0, #111)));\n",
       "    --sklearn-color-border-box: var(--sg-text-color, var(--theme-code-foreground, var(--jp-content-font-color1, white)));\n",
       "    --sklearn-color-icon: #878787;\n",
       "  }\n",
       "}\n",
       "\n",
       "#sk-container-id-3 {\n",
       "  color: var(--sklearn-color-text);\n",
       "}\n",
       "\n",
       "#sk-container-id-3 pre {\n",
       "  padding: 0;\n",
       "}\n",
       "\n",
       "#sk-container-id-3 input.sk-hidden--visually {\n",
       "  border: 0;\n",
       "  clip: rect(1px 1px 1px 1px);\n",
       "  clip: rect(1px, 1px, 1px, 1px);\n",
       "  height: 1px;\n",
       "  margin: -1px;\n",
       "  overflow: hidden;\n",
       "  padding: 0;\n",
       "  position: absolute;\n",
       "  width: 1px;\n",
       "}\n",
       "\n",
       "#sk-container-id-3 div.sk-dashed-wrapped {\n",
       "  border: 1px dashed var(--sklearn-color-line);\n",
       "  margin: 0 0.4em 0.5em 0.4em;\n",
       "  box-sizing: border-box;\n",
       "  padding-bottom: 0.4em;\n",
       "  background-color: var(--sklearn-color-background);\n",
       "}\n",
       "\n",
       "#sk-container-id-3 div.sk-container {\n",
       "  /* jupyter's `normalize.less` sets `[hidden] { display: none; }`\n",
       "     but bootstrap.min.css set `[hidden] { display: none !important; }`\n",
       "     so we also need the `!important` here to be able to override the\n",
       "     default hidden behavior on the sphinx rendered scikit-learn.org.\n",
       "     See: https://github.com/scikit-learn/scikit-learn/issues/21755 */\n",
       "  display: inline-block !important;\n",
       "  position: relative;\n",
       "}\n",
       "\n",
       "#sk-container-id-3 div.sk-text-repr-fallback {\n",
       "  display: none;\n",
       "}\n",
       "\n",
       "div.sk-parallel-item,\n",
       "div.sk-serial,\n",
       "div.sk-item {\n",
       "  /* draw centered vertical line to link estimators */\n",
       "  background-image: linear-gradient(var(--sklearn-color-text-on-default-background), var(--sklearn-color-text-on-default-background));\n",
       "  background-size: 2px 100%;\n",
       "  background-repeat: no-repeat;\n",
       "  background-position: center center;\n",
       "}\n",
       "\n",
       "/* Parallel-specific style estimator block */\n",
       "\n",
       "#sk-container-id-3 div.sk-parallel-item::after {\n",
       "  content: \"\";\n",
       "  width: 100%;\n",
       "  border-bottom: 2px solid var(--sklearn-color-text-on-default-background);\n",
       "  flex-grow: 1;\n",
       "}\n",
       "\n",
       "#sk-container-id-3 div.sk-parallel {\n",
       "  display: flex;\n",
       "  align-items: stretch;\n",
       "  justify-content: center;\n",
       "  background-color: var(--sklearn-color-background);\n",
       "  position: relative;\n",
       "}\n",
       "\n",
       "#sk-container-id-3 div.sk-parallel-item {\n",
       "  display: flex;\n",
       "  flex-direction: column;\n",
       "}\n",
       "\n",
       "#sk-container-id-3 div.sk-parallel-item:first-child::after {\n",
       "  align-self: flex-end;\n",
       "  width: 50%;\n",
       "}\n",
       "\n",
       "#sk-container-id-3 div.sk-parallel-item:last-child::after {\n",
       "  align-self: flex-start;\n",
       "  width: 50%;\n",
       "}\n",
       "\n",
       "#sk-container-id-3 div.sk-parallel-item:only-child::after {\n",
       "  width: 0;\n",
       "}\n",
       "\n",
       "/* Serial-specific style estimator block */\n",
       "\n",
       "#sk-container-id-3 div.sk-serial {\n",
       "  display: flex;\n",
       "  flex-direction: column;\n",
       "  align-items: center;\n",
       "  background-color: var(--sklearn-color-background);\n",
       "  padding-right: 1em;\n",
       "  padding-left: 1em;\n",
       "}\n",
       "\n",
       "\n",
       "/* Toggleable style: style used for estimator/Pipeline/ColumnTransformer box that is\n",
       "clickable and can be expanded/collapsed.\n",
       "- Pipeline and ColumnTransformer use this feature and define the default style\n",
       "- Estimators will overwrite some part of the style using the `sk-estimator` class\n",
       "*/\n",
       "\n",
       "/* Pipeline and ColumnTransformer style (default) */\n",
       "\n",
       "#sk-container-id-3 div.sk-toggleable {\n",
       "  /* Default theme specific background. It is overwritten whether we have a\n",
       "  specific estimator or a Pipeline/ColumnTransformer */\n",
       "  background-color: var(--sklearn-color-background);\n",
       "}\n",
       "\n",
       "/* Toggleable label */\n",
       "#sk-container-id-3 label.sk-toggleable__label {\n",
       "  cursor: pointer;\n",
       "  display: block;\n",
       "  width: 100%;\n",
       "  margin-bottom: 0;\n",
       "  padding: 0.5em;\n",
       "  box-sizing: border-box;\n",
       "  text-align: center;\n",
       "}\n",
       "\n",
       "#sk-container-id-3 label.sk-toggleable__label-arrow:before {\n",
       "  /* Arrow on the left of the label */\n",
       "  content: \"▸\";\n",
       "  float: left;\n",
       "  margin-right: 0.25em;\n",
       "  color: var(--sklearn-color-icon);\n",
       "}\n",
       "\n",
       "#sk-container-id-3 label.sk-toggleable__label-arrow:hover:before {\n",
       "  color: var(--sklearn-color-text);\n",
       "}\n",
       "\n",
       "/* Toggleable content - dropdown */\n",
       "\n",
       "#sk-container-id-3 div.sk-toggleable__content {\n",
       "  max-height: 0;\n",
       "  max-width: 0;\n",
       "  overflow: hidden;\n",
       "  text-align: left;\n",
       "  /* unfitted */\n",
       "  background-color: var(--sklearn-color-unfitted-level-0);\n",
       "}\n",
       "\n",
       "#sk-container-id-3 div.sk-toggleable__content.fitted {\n",
       "  /* fitted */\n",
       "  background-color: var(--sklearn-color-fitted-level-0);\n",
       "}\n",
       "\n",
       "#sk-container-id-3 div.sk-toggleable__content pre {\n",
       "  margin: 0.2em;\n",
       "  border-radius: 0.25em;\n",
       "  color: var(--sklearn-color-text);\n",
       "  /* unfitted */\n",
       "  background-color: var(--sklearn-color-unfitted-level-0);\n",
       "}\n",
       "\n",
       "#sk-container-id-3 div.sk-toggleable__content.fitted pre {\n",
       "  /* unfitted */\n",
       "  background-color: var(--sklearn-color-fitted-level-0);\n",
       "}\n",
       "\n",
       "#sk-container-id-3 input.sk-toggleable__control:checked~div.sk-toggleable__content {\n",
       "  /* Expand drop-down */\n",
       "  max-height: 200px;\n",
       "  max-width: 100%;\n",
       "  overflow: auto;\n",
       "}\n",
       "\n",
       "#sk-container-id-3 input.sk-toggleable__control:checked~label.sk-toggleable__label-arrow:before {\n",
       "  content: \"▾\";\n",
       "}\n",
       "\n",
       "/* Pipeline/ColumnTransformer-specific style */\n",
       "\n",
       "#sk-container-id-3 div.sk-label input.sk-toggleable__control:checked~label.sk-toggleable__label {\n",
       "  color: var(--sklearn-color-text);\n",
       "  background-color: var(--sklearn-color-unfitted-level-2);\n",
       "}\n",
       "\n",
       "#sk-container-id-3 div.sk-label.fitted input.sk-toggleable__control:checked~label.sk-toggleable__label {\n",
       "  background-color: var(--sklearn-color-fitted-level-2);\n",
       "}\n",
       "\n",
       "/* Estimator-specific style */\n",
       "\n",
       "/* Colorize estimator box */\n",
       "#sk-container-id-3 div.sk-estimator input.sk-toggleable__control:checked~label.sk-toggleable__label {\n",
       "  /* unfitted */\n",
       "  background-color: var(--sklearn-color-unfitted-level-2);\n",
       "}\n",
       "\n",
       "#sk-container-id-3 div.sk-estimator.fitted input.sk-toggleable__control:checked~label.sk-toggleable__label {\n",
       "  /* fitted */\n",
       "  background-color: var(--sklearn-color-fitted-level-2);\n",
       "}\n",
       "\n",
       "#sk-container-id-3 div.sk-label label.sk-toggleable__label,\n",
       "#sk-container-id-3 div.sk-label label {\n",
       "  /* The background is the default theme color */\n",
       "  color: var(--sklearn-color-text-on-default-background);\n",
       "}\n",
       "\n",
       "/* On hover, darken the color of the background */\n",
       "#sk-container-id-3 div.sk-label:hover label.sk-toggleable__label {\n",
       "  color: var(--sklearn-color-text);\n",
       "  background-color: var(--sklearn-color-unfitted-level-2);\n",
       "}\n",
       "\n",
       "/* Label box, darken color on hover, fitted */\n",
       "#sk-container-id-3 div.sk-label.fitted:hover label.sk-toggleable__label.fitted {\n",
       "  color: var(--sklearn-color-text);\n",
       "  background-color: var(--sklearn-color-fitted-level-2);\n",
       "}\n",
       "\n",
       "/* Estimator label */\n",
       "\n",
       "#sk-container-id-3 div.sk-label label {\n",
       "  font-family: monospace;\n",
       "  font-weight: bold;\n",
       "  display: inline-block;\n",
       "  line-height: 1.2em;\n",
       "}\n",
       "\n",
       "#sk-container-id-3 div.sk-label-container {\n",
       "  text-align: center;\n",
       "}\n",
       "\n",
       "/* Estimator-specific */\n",
       "#sk-container-id-3 div.sk-estimator {\n",
       "  font-family: monospace;\n",
       "  border: 1px dotted var(--sklearn-color-border-box);\n",
       "  border-radius: 0.25em;\n",
       "  box-sizing: border-box;\n",
       "  margin-bottom: 0.5em;\n",
       "  /* unfitted */\n",
       "  background-color: var(--sklearn-color-unfitted-level-0);\n",
       "}\n",
       "\n",
       "#sk-container-id-3 div.sk-estimator.fitted {\n",
       "  /* fitted */\n",
       "  background-color: var(--sklearn-color-fitted-level-0);\n",
       "}\n",
       "\n",
       "/* on hover */\n",
       "#sk-container-id-3 div.sk-estimator:hover {\n",
       "  /* unfitted */\n",
       "  background-color: var(--sklearn-color-unfitted-level-2);\n",
       "}\n",
       "\n",
       "#sk-container-id-3 div.sk-estimator.fitted:hover {\n",
       "  /* fitted */\n",
       "  background-color: var(--sklearn-color-fitted-level-2);\n",
       "}\n",
       "\n",
       "/* Specification for estimator info (e.g. \"i\" and \"?\") */\n",
       "\n",
       "/* Common style for \"i\" and \"?\" */\n",
       "\n",
       ".sk-estimator-doc-link,\n",
       "a:link.sk-estimator-doc-link,\n",
       "a:visited.sk-estimator-doc-link {\n",
       "  float: right;\n",
       "  font-size: smaller;\n",
       "  line-height: 1em;\n",
       "  font-family: monospace;\n",
       "  background-color: var(--sklearn-color-background);\n",
       "  border-radius: 1em;\n",
       "  height: 1em;\n",
       "  width: 1em;\n",
       "  text-decoration: none !important;\n",
       "  margin-left: 1ex;\n",
       "  /* unfitted */\n",
       "  border: var(--sklearn-color-unfitted-level-1) 1pt solid;\n",
       "  color: var(--sklearn-color-unfitted-level-1);\n",
       "}\n",
       "\n",
       ".sk-estimator-doc-link.fitted,\n",
       "a:link.sk-estimator-doc-link.fitted,\n",
       "a:visited.sk-estimator-doc-link.fitted {\n",
       "  /* fitted */\n",
       "  border: var(--sklearn-color-fitted-level-1) 1pt solid;\n",
       "  color: var(--sklearn-color-fitted-level-1);\n",
       "}\n",
       "\n",
       "/* On hover */\n",
       "div.sk-estimator:hover .sk-estimator-doc-link:hover,\n",
       ".sk-estimator-doc-link:hover,\n",
       "div.sk-label-container:hover .sk-estimator-doc-link:hover,\n",
       ".sk-estimator-doc-link:hover {\n",
       "  /* unfitted */\n",
       "  background-color: var(--sklearn-color-unfitted-level-3);\n",
       "  color: var(--sklearn-color-background);\n",
       "  text-decoration: none;\n",
       "}\n",
       "\n",
       "div.sk-estimator.fitted:hover .sk-estimator-doc-link.fitted:hover,\n",
       ".sk-estimator-doc-link.fitted:hover,\n",
       "div.sk-label-container:hover .sk-estimator-doc-link.fitted:hover,\n",
       ".sk-estimator-doc-link.fitted:hover {\n",
       "  /* fitted */\n",
       "  background-color: var(--sklearn-color-fitted-level-3);\n",
       "  color: var(--sklearn-color-background);\n",
       "  text-decoration: none;\n",
       "}\n",
       "\n",
       "/* Span, style for the box shown on hovering the info icon */\n",
       ".sk-estimator-doc-link span {\n",
       "  display: none;\n",
       "  z-index: 9999;\n",
       "  position: relative;\n",
       "  font-weight: normal;\n",
       "  right: .2ex;\n",
       "  padding: .5ex;\n",
       "  margin: .5ex;\n",
       "  width: min-content;\n",
       "  min-width: 20ex;\n",
       "  max-width: 50ex;\n",
       "  color: var(--sklearn-color-text);\n",
       "  box-shadow: 2pt 2pt 4pt #999;\n",
       "  /* unfitted */\n",
       "  background: var(--sklearn-color-unfitted-level-0);\n",
       "  border: .5pt solid var(--sklearn-color-unfitted-level-3);\n",
       "}\n",
       "\n",
       ".sk-estimator-doc-link.fitted span {\n",
       "  /* fitted */\n",
       "  background: var(--sklearn-color-fitted-level-0);\n",
       "  border: var(--sklearn-color-fitted-level-3);\n",
       "}\n",
       "\n",
       ".sk-estimator-doc-link:hover span {\n",
       "  display: block;\n",
       "}\n",
       "\n",
       "/* \"?\"-specific style due to the `<a>` HTML tag */\n",
       "\n",
       "#sk-container-id-3 a.estimator_doc_link {\n",
       "  float: right;\n",
       "  font-size: 1rem;\n",
       "  line-height: 1em;\n",
       "  font-family: monospace;\n",
       "  background-color: var(--sklearn-color-background);\n",
       "  border-radius: 1rem;\n",
       "  height: 1rem;\n",
       "  width: 1rem;\n",
       "  text-decoration: none;\n",
       "  /* unfitted */\n",
       "  color: var(--sklearn-color-unfitted-level-1);\n",
       "  border: var(--sklearn-color-unfitted-level-1) 1pt solid;\n",
       "}\n",
       "\n",
       "#sk-container-id-3 a.estimator_doc_link.fitted {\n",
       "  /* fitted */\n",
       "  border: var(--sklearn-color-fitted-level-1) 1pt solid;\n",
       "  color: var(--sklearn-color-fitted-level-1);\n",
       "}\n",
       "\n",
       "/* On hover */\n",
       "#sk-container-id-3 a.estimator_doc_link:hover {\n",
       "  /* unfitted */\n",
       "  background-color: var(--sklearn-color-unfitted-level-3);\n",
       "  color: var(--sklearn-color-background);\n",
       "  text-decoration: none;\n",
       "}\n",
       "\n",
       "#sk-container-id-3 a.estimator_doc_link.fitted:hover {\n",
       "  /* fitted */\n",
       "  background-color: var(--sklearn-color-fitted-level-3);\n",
       "}\n",
       "</style><div id=\"sk-container-id-3\" class=\"sk-top-container\"><div class=\"sk-text-repr-fallback\"><pre>LogisticRegression(max_iter=200)</pre><b>In a Jupyter environment, please rerun this cell to show the HTML representation or trust the notebook. <br />On GitHub, the HTML representation is unable to render, please try loading this page with nbviewer.org.</b></div><div class=\"sk-container\" hidden><div class=\"sk-item\"><div class=\"sk-estimator fitted sk-toggleable\"><input class=\"sk-toggleable__control sk-hidden--visually\" id=\"sk-estimator-id-3\" type=\"checkbox\" checked><label for=\"sk-estimator-id-3\" class=\"sk-toggleable__label fitted sk-toggleable__label-arrow fitted\">&nbsp;&nbsp;LogisticRegression<a class=\"sk-estimator-doc-link fitted\" rel=\"noreferrer\" target=\"_blank\" href=\"https://scikit-learn.org/1.4/modules/generated/sklearn.linear_model.LogisticRegression.html\">?<span>Documentation for LogisticRegression</span></a><span class=\"sk-estimator-doc-link fitted\">i<span>Fitted</span></span></label><div class=\"sk-toggleable__content fitted\"><pre>LogisticRegression(max_iter=200)</pre></div> </div></div></div></div>"
      ],
      "text/plain": [
       "LogisticRegression(max_iter=200)"
      ]
     },
     "execution_count": 108,
     "metadata": {},
     "output_type": "execute_result"
    }
   ],
   "source": [
    "# Trains the logistic regression model using the standardized training data and target variable\n",
    "logmodel.fit(X_trained_transformed, y_train)"
   ]
  },
  {
   "cell_type": "markdown",
   "id": "2cc0cefe",
   "metadata": {},
   "source": [
    "## Prediction and Model Assessment"
   ]
  },
  {
   "cell_type": "code",
   "execution_count": 109,
   "id": "41ef54ec",
   "metadata": {},
   "outputs": [
    {
     "data": {
      "text/html": [
       "<div>\n",
       "<style scoped>\n",
       "    .dataframe tbody tr th:only-of-type {\n",
       "        vertical-align: middle;\n",
       "    }\n",
       "\n",
       "    .dataframe tbody tr th {\n",
       "        vertical-align: top;\n",
       "    }\n",
       "\n",
       "    .dataframe thead th {\n",
       "        text-align: right;\n",
       "    }\n",
       "</style>\n",
       "<table border=\"1\" class=\"dataframe\">\n",
       "  <thead>\n",
       "    <tr style=\"text-align: right;\">\n",
       "      <th></th>\n",
       "      <th>distance_from_home</th>\n",
       "      <th>distance_from_last_transaction</th>\n",
       "      <th>ratio_to_median_purchase_price</th>\n",
       "      <th>repeat_retailer</th>\n",
       "      <th>used_chip</th>\n",
       "      <th>used_pin_number</th>\n",
       "      <th>online_order</th>\n",
       "    </tr>\n",
       "  </thead>\n",
       "  <tbody>\n",
       "    <tr>\n",
       "      <th>0</th>\n",
       "      <td>1.559393</td>\n",
       "      <td>-0.222628</td>\n",
       "      <td>1.788491</td>\n",
       "      <td>0.366168</td>\n",
       "      <td>1.360535</td>\n",
       "      <td>-0.334095</td>\n",
       "      <td>0.732968</td>\n",
       "    </tr>\n",
       "    <tr>\n",
       "      <th>1</th>\n",
       "      <td>-0.322869</td>\n",
       "      <td>-0.216238</td>\n",
       "      <td>0.103321</td>\n",
       "      <td>0.366168</td>\n",
       "      <td>-0.735005</td>\n",
       "      <td>-0.334095</td>\n",
       "      <td>0.732968</td>\n",
       "    </tr>\n",
       "    <tr>\n",
       "      <th>2</th>\n",
       "      <td>-0.341000</td>\n",
       "      <td>-0.223533</td>\n",
       "      <td>0.309806</td>\n",
       "      <td>0.366168</td>\n",
       "      <td>1.360535</td>\n",
       "      <td>-0.334095</td>\n",
       "      <td>0.732968</td>\n",
       "    </tr>\n",
       "    <tr>\n",
       "      <th>3</th>\n",
       "      <td>-0.347664</td>\n",
       "      <td>-0.118146</td>\n",
       "      <td>0.771869</td>\n",
       "      <td>0.366168</td>\n",
       "      <td>-0.735005</td>\n",
       "      <td>-0.334095</td>\n",
       "      <td>0.732968</td>\n",
       "    </tr>\n",
       "    <tr>\n",
       "      <th>4</th>\n",
       "      <td>-0.388108</td>\n",
       "      <td>0.205750</td>\n",
       "      <td>-0.130159</td>\n",
       "      <td>-2.730988</td>\n",
       "      <td>1.360535</td>\n",
       "      <td>-0.334095</td>\n",
       "      <td>0.732968</td>\n",
       "    </tr>\n",
       "  </tbody>\n",
       "</table>\n",
       "</div>"
      ],
      "text/plain": [
       "   distance_from_home  distance_from_last_transaction  \\\n",
       "0            1.559393                       -0.222628   \n",
       "1           -0.322869                       -0.216238   \n",
       "2           -0.341000                       -0.223533   \n",
       "3           -0.347664                       -0.118146   \n",
       "4           -0.388108                        0.205750   \n",
       "\n",
       "   ratio_to_median_purchase_price  repeat_retailer  used_chip  \\\n",
       "0                        1.788491         0.366168   1.360535   \n",
       "1                        0.103321         0.366168  -0.735005   \n",
       "2                        0.309806         0.366168   1.360535   \n",
       "3                        0.771869         0.366168  -0.735005   \n",
       "4                       -0.130159        -2.730988   1.360535   \n",
       "\n",
       "   used_pin_number  online_order  \n",
       "0        -0.334095      0.732968  \n",
       "1        -0.334095      0.732968  \n",
       "2        -0.334095      0.732968  \n",
       "3        -0.334095      0.732968  \n",
       "4        -0.334095      0.732968  "
      ]
     },
     "execution_count": 109,
     "metadata": {},
     "output_type": "execute_result"
    }
   ],
   "source": [
    "# Transforms the test data using the same scaler fitted on the training data\n",
    "X_test_transformed = scaler.transform(X_test)\n",
    "\n",
    "# Converts the transformed test data back to a DataFrame with the original column names\n",
    "columns = X.columns\n",
    "X_test_transformed = pd.DataFrame(X_test_transformed, columns=columns)\n",
    "\n",
    "# Displays the first few rows of the standardized test data\n",
    "X_test_transformed.head()"
   ]
  },
  {
   "cell_type": "code",
   "execution_count": 110,
   "id": "012db099",
   "metadata": {},
   "outputs": [],
   "source": [
    "# Uses the trained logistic regression model to make predictions on the standardized test data\n",
    "predictions = logmodel.predict(X_test_transformed)"
   ]
  },
  {
   "cell_type": "code",
   "execution_count": 111,
   "id": "4d59d725",
   "metadata": {},
   "outputs": [],
   "source": [
    "# Imports functions to evaluate the performance of the classification model\n",
    "from sklearn.metrics import classification_report, confusion_matrix, accuracy_score"
   ]
  },
  {
   "cell_type": "code",
   "execution_count": 112,
   "id": "6be1d694",
   "metadata": {},
   "outputs": [
    {
     "name": "stdout",
     "output_type": "stream",
     "text": [
      "              precision    recall  f1-score   support\n",
      "\n",
      "         0.0       0.96      0.99      0.98    273810\n",
      "         1.0       0.89      0.61      0.72     26190\n",
      "\n",
      "    accuracy                           0.96    300000\n",
      "   macro avg       0.93      0.80      0.85    300000\n",
      "weighted avg       0.96      0.96      0.96    300000\n",
      "\n"
     ]
    }
   ],
   "source": [
    "# To view the classification report\n",
    "print(classification_report(y_test, predictions))"
   ]
  },
  {
   "cell_type": "markdown",
   "id": "75d47c36-ff96-4712-90de-66eb027d7c53",
   "metadata": {},
   "source": [
    "Note: Precision measure accuracy of positive prediction while recall measure the completeness of positive prediction. Recall equals true positive over True Positive plus False negative while "
   ]
  },
  {
   "cell_type": "code",
   "execution_count": 113,
   "id": "1978efa0",
   "metadata": {},
   "outputs": [
    {
     "data": {
      "text/plain": [
       "array([[271789,   2021],\n",
       "       [ 10233,  15957]], dtype=int64)"
      ]
     },
     "execution_count": 113,
     "metadata": {},
     "output_type": "execute_result"
    }
   ],
   "source": [
    "# Viewing the confusion metrics\n",
    "confusion_matrix(y_test, predictions)"
   ]
  },
  {
   "cell_type": "code",
   "execution_count": 114,
   "id": "20e23994",
   "metadata": {},
   "outputs": [
    {
     "data": {
      "text/plain": [
       "0.9591533333333333"
      ]
     },
     "execution_count": 114,
     "metadata": {},
     "output_type": "execute_result"
    }
   ],
   "source": [
    "#To view accuracy score only\n",
    "accuracy_score(y_test, predictions)"
   ]
  },
  {
   "cell_type": "code",
   "execution_count": 115,
   "id": "74d02595",
   "metadata": {},
   "outputs": [
    {
     "ename": "SyntaxError",
     "evalue": "invalid syntax (902860141.py, line 1)",
     "output_type": "error",
     "traceback": [
      "\u001b[1;36m  Cell \u001b[1;32mIn[115], line 1\u001b[1;36m\u001b[0m\n\u001b[1;33m    To plot the ROC curve\u001b[0m\n\u001b[1;37m       ^\u001b[0m\n\u001b[1;31mSyntaxError\u001b[0m\u001b[1;31m:\u001b[0m invalid syntax\n"
     ]
    }
   ],
   "source": [
    "To plot the ROC curve\n",
    "from sklearn.metrics import roc_auc_score\n",
    "from sklearn.metrics import roc_curve\n",
    "logit_roc_auc = roc_auc_score(y_test, logmodel.predict(X_test_transformed))\n",
    "fpr, tpr, thresholds = roc_curve(y_test, logmodel.predict_proba(X_test_transformed)[:,1])\n",
    "plt.figure()\n",
    "plt.plot(fpr, tpr, label='Logistic Regression (area = %0.2f)' % logit_roc_auc)\n",
    "plt.plot([0, 1], [0, 1],'r--')\n",
    "plt.xlim([0.0, 1.0])\n",
    "plt.ylim([0.0, 1.05])\n",
    "plt.xlabel('False Positive Rate')\n",
    "plt.ylabel('True Positive Rate')\n",
    "plt.title('Receiver Operating Characteristic')\n",
    "plt.legend(loc=\"lower right\")\n",
    "plt.savefig('Log_ROC')\n",
    "plt.show()"
   ]
  },
  {
   "cell_type": "markdown",
   "id": "edb14f8f",
   "metadata": {},
   "source": [
    "##### As shown above, while the overall accuracy of 0.95915 may seem high, it is not an appropriate metric for evaluating this model due to the unbalanced nature of the dataset. A more accurate assessment comes from considering precision and recall alongside accuracy. \n",
    "##### However, with a precision of 0.61 and a recall of 0.72, the model struggles to correctly classify the rare class compared to the other class. Therefore, I will apply oversampling techniques to improve the model’s performance."
   ]
  },
  {
   "cell_type": "code",
   "execution_count": null,
   "id": "f4363973",
   "metadata": {},
   "outputs": [],
   "source": [
    "# Reimporting the raw dataset\n",
    "df = pd.read_csv('credit_card_transaction_data.csv')"
   ]
  },
  {
   "cell_type": "code",
   "execution_count": null,
   "id": "0e59a1db",
   "metadata": {},
   "outputs": [],
   "source": [
    "df.head()"
   ]
  },
  {
   "cell_type": "markdown",
   "id": "328ec724",
   "metadata": {},
   "source": [
    "## Oversampling"
   ]
  },
  {
   "cell_type": "code",
   "execution_count": null,
   "id": "2575a496",
   "metadata": {},
   "outputs": [],
   "source": [
    "# Defining the dependent and independent variables\n",
    "X = df.drop(['fraud'],axis = 1)\n",
    "y = df['fraud']"
   ]
  },
  {
   "cell_type": "code",
   "execution_count": null,
   "id": "15d16532",
   "metadata": {},
   "outputs": [],
   "source": [
    "# Oversampling using the imbalanced-learn python library\n",
    "from imblearn.over_sampling import RandomOverSampler\n",
    "oversample = RandomOverSampler(sampling_strategy=1)\n",
    "X_over, y_over = oversample.fit_resample(X, y)"
   ]
  },
  {
   "cell_type": "code",
   "execution_count": null,
   "id": "8146ff0b",
   "metadata": {},
   "outputs": [],
   "source": [
    "# Re-merging for EDA\n",
    "df_over = pd.concat([X_over,y_over],axis=1)"
   ]
  },
  {
   "cell_type": "code",
   "execution_count": null,
   "id": "acd41553",
   "metadata": {},
   "outputs": [],
   "source": [
    "df_over.head()"
   ]
  },
  {
   "cell_type": "markdown",
   "id": "c5c82fb9",
   "metadata": {},
   "source": [
    "## Exploratory Data Analysis"
   ]
  },
  {
   "cell_type": "code",
   "execution_count": null,
   "id": "97d47d7c",
   "metadata": {},
   "outputs": [],
   "source": [
    "# Displaying the new count of fraud category\n",
    "sns.countplot(x='fraud',data=df_over)"
   ]
  },
  {
   "cell_type": "markdown",
   "id": "c7055e42-730d-48ca-b671-7a7277317002",
   "metadata": {},
   "source": [
    "Classes are now balanced"
   ]
  },
  {
   "cell_type": "code",
   "execution_count": null,
   "id": "7410ba9f",
   "metadata": {},
   "outputs": [],
   "source": [
    "# A quick look at mean value of the features for fraudulent and non-fraudulent transactions\n",
    "df_over.groupby('fraud').mean()"
   ]
  },
  {
   "cell_type": "code",
   "execution_count": null,
   "id": "332fce2f",
   "metadata": {},
   "outputs": [],
   "source": [
    "# Generates summary statistics for numeric columns in df_over and transposes the result for easier viewing\n",
    "df_over.describe().transpose()"
   ]
  },
  {
   "cell_type": "code",
   "execution_count": null,
   "id": "214e5ab6",
   "metadata": {},
   "outputs": [],
   "source": [
    "# Correlation of each of the variables with fraud\n",
    "df_over.corr()['fraud'].sort_values()"
   ]
  },
  {
   "cell_type": "code",
   "execution_count": null,
   "id": "bf2db28b",
   "metadata": {},
   "outputs": [],
   "source": [
    "# Plotting the heat map of the correlation\n",
    "sns.heatmap(df_over.corr())"
   ]
  },
  {
   "cell_type": "code",
   "execution_count": null,
   "id": "bc04c91e",
   "metadata": {},
   "outputs": [],
   "source": [
    "# Ploting the correlation in a bar chart\n",
    "df_over.corr()['fraud'][:-1].sort_values().plot(kind='bar')"
   ]
  },
  {
   "cell_type": "markdown",
   "id": "b00e8a91",
   "metadata": {},
   "source": [
    "#### To further explore the variables with significant correlations with fraud"
   ]
  },
  {
   "cell_type": "code",
   "execution_count": null,
   "id": "7e0b3a7c",
   "metadata": {},
   "outputs": [],
   "source": [
    "# ration to median purchase price higher for fraudulent transactions\n",
    "sns.boxplot(x='fraud',y='ratio_to_median_purchase_price',data=df_over)"
   ]
  },
  {
   "cell_type": "code",
   "execution_count": null,
   "id": "86be95d6",
   "metadata": {},
   "outputs": [],
   "source": [
    "# Plotting fraud against online order\n",
    "sns.countplot(x='fraud',hue='online_order',data=df_over)"
   ]
  },
  {
   "cell_type": "markdown",
   "id": "4fae6329-0982-4b53-924f-9b9b6e51b4ce",
   "metadata": {},
   "source": [
    "Online orders are more likely to be fraudulent"
   ]
  },
  {
   "cell_type": "code",
   "execution_count": null,
   "id": "b573e4fb",
   "metadata": {},
   "outputs": [],
   "source": [
    "# Plotting fraud against use of pin number\n",
    "sns.countplot(x='fraud',hue='used_pin_number',data=df_over)"
   ]
  },
  {
   "cell_type": "markdown",
   "id": "18e49a39-8d1a-42f7-b463-947ebd747862",
   "metadata": {},
   "source": [
    "Transactions are less likely to be fraudulent when pin numbers are used"
   ]
  },
  {
   "cell_type": "code",
   "execution_count": null,
   "id": "c5483779",
   "metadata": {},
   "outputs": [],
   "source": [
    "# Plotting a boxplot of fraud against distancefrom home\n",
    "sns.boxplot(x='fraud',y='distance_from_home',data=df_over)"
   ]
  },
  {
   "cell_type": "markdown",
   "id": "173b1455",
   "metadata": {},
   "source": [
    "## Data Preparation, Model Training and Assessment"
   ]
  },
  {
   "cell_type": "code",
   "execution_count": null,
   "id": "6957621e",
   "metadata": {},
   "outputs": [],
   "source": [
    "# Importing train_test_split\n",
    "from sklearn.model_selection import train_test_split\n",
    "# Splits the oversampled data into training and test sets with 30% of the data used for testing\n",
    "X_train, X_test, y_train, y_test = train_test_split(X_over, y_over, test_size=0.3, random_state = 43)"
   ]
  },
  {
   "cell_type": "code",
   "execution_count": null,
   "id": "94127f83",
   "metadata": {},
   "outputs": [],
   "source": [
    "#Transforming the independent variable to make it appropriate to be passed into logistic regression model\n",
    "from sklearn.preprocessing import StandardScaler\n",
    "columns = X_over.columns\n",
    "scaler = StandardScaler()\n",
    "X_train_transformed = scaler.fit_transform(X_train)\n",
    "X_train_transformed = pd.DataFrame(X_train_transformed, columns = columns)\n",
    "X_train_transformed.head()"
   ]
  },
  {
   "cell_type": "code",
   "execution_count": null,
   "id": "848df863",
   "metadata": {},
   "outputs": [],
   "source": [
    "#Importing Logistic regression\n",
    "from sklearn.linear_model import LogisticRegression"
   ]
  },
  {
   "cell_type": "code",
   "execution_count": null,
   "id": "341ddffd",
   "metadata": {},
   "outputs": [],
   "source": [
    "# Creates an instance of the LogisticRegression model with a maximum of 200 iterations for convergence\n",
    "logmodel = LogisticRegression(max_iter=200)"
   ]
  },
  {
   "cell_type": "code",
   "execution_count": null,
   "id": "cadcdee4",
   "metadata": {},
   "outputs": [],
   "source": [
    "# Trains the logistic regression model using the oversampled training data and target variable\n",
    "logmodel.fit(X_train_transformed, y_train)"
   ]
  },
  {
   "cell_type": "code",
   "execution_count": null,
   "id": "5891a030",
   "metadata": {},
   "outputs": [],
   "source": [
    "# Transforms the test data using the same scaler fitted on the training data\n",
    "X_test_transformed = scaler.transform(X_test)\n",
    "\n",
    "# Converts the transformed test data back to a DataFrame with the original column names\n",
    "X_test_transformed = pd.DataFrame(X_test_transformed, columns=columns)\n",
    "\n",
    "# Displays the first few rows of the standardized test data\n",
    "X_test_transformed.head()\n"
   ]
  },
  {
   "cell_type": "code",
   "execution_count": null,
   "id": "a51bdea7",
   "metadata": {},
   "outputs": [],
   "source": [
    "# Uses the trained logistic regression model to make predictions on the standardized test data\n",
    "predictions = logmodel.predict(X_test_transformed)"
   ]
  },
  {
   "cell_type": "code",
   "execution_count": null,
   "id": "77635a41",
   "metadata": {},
   "outputs": [],
   "source": [
    "# Importing model evaluation functions\n",
    "from sklearn.metrics import classification_report, confusion_matrix, accuracy_score"
   ]
  },
  {
   "cell_type": "code",
   "execution_count": null,
   "id": "6b3b5b22",
   "metadata": {},
   "outputs": [],
   "source": [
    "# View the classification report\n",
    "print(classification_report(y_test, predictions))"
   ]
  },
  {
   "cell_type": "code",
   "execution_count": null,
   "id": "80ec92a7",
   "metadata": {},
   "outputs": [],
   "source": [
    "# Viewing the confusion matrix\n",
    "confusion_matrix(y_test, predictions)"
   ]
  },
  {
   "cell_type": "code",
   "execution_count": null,
   "id": "72bc9617",
   "metadata": {},
   "outputs": [],
   "source": [
    "# Viewing the accuracy score\n",
    "accuracy_score(y_test, predictions)"
   ]
  },
  {
   "cell_type": "code",
   "execution_count": null,
   "id": "31fc0fa8",
   "metadata": {},
   "outputs": [],
   "source": [
    "# Ploting the ROC curve\n",
    "from sklearn.metrics import roc_auc_score\n",
    "from sklearn.metrics import roc_curve\n",
    "logit_roc_auc = roc_auc_score(y_test, logmodel.predict(X_test_transformed))\n",
    "fpr, tpr, thresholds = roc_curve(y_test, logmodel.predict_proba(X_test_transformed)[:,1])\n",
    "plt.figure()\n",
    "plt.plot(fpr, tpr, label='Logistic Regression (area = %0.2f)' % logit_roc_auc)\n",
    "plt.plot([0, 1], [0, 1],'r--')\n",
    "plt.xlim([0.0, 1.0])\n",
    "plt.ylim([0.0, 1.05])\n",
    "plt.xlabel('False Positive Rate')\n",
    "plt.ylabel('True Positive Rate')\n",
    "plt.title('Receiver Operating Characteristic')\n",
    "plt.legend(loc=\"lower right\")\n",
    "plt.savefig('Log_ROC')\n",
    "plt.show()"
   ]
  },
  {
   "cell_type": "markdown",
   "id": "bf9b69c0",
   "metadata": {},
   "source": [
    "## Predicting a Single Class"
   ]
  },
  {
   "cell_type": "code",
   "execution_count": null,
   "id": "3b19095a",
   "metadata": {},
   "outputs": [],
   "source": [
    "#predict a fraudulent transaction\n",
    "df_1fraud=df[df['fraud']==1].head(1)\n",
    "df_1fraud=df_1fraud.drop('fraud',axis=1)\n",
    "df_1fraud"
   ]
  },
  {
   "cell_type": "code",
   "execution_count": null,
   "id": "b55410bb",
   "metadata": {},
   "outputs": [],
   "source": [
    "# Transforms the df_1fraud data using the same scaler fitted on the training data\n",
    "df_1fraud = scaler.transform(df_1fraud)"
   ]
  },
  {
   "cell_type": "code",
   "execution_count": null,
   "id": "ef4de1d2",
   "metadata": {},
   "outputs": [],
   "source": [
    "# Viewing df_1fraud\n",
    "df_1fraud"
   ]
  },
  {
   "cell_type": "code",
   "execution_count": null,
   "id": "ac01e160",
   "metadata": {},
   "outputs": [],
   "source": [
    "# Coverting to a DataFrame\n",
    "df_1fraud = pd.DataFrame(df_1fraud, columns = columns)"
   ]
  },
  {
   "cell_type": "code",
   "execution_count": null,
   "id": "8896d108",
   "metadata": {},
   "outputs": [],
   "source": [
    "# Correctly predicted as fraudulent\n",
    "logmodel.predict(df_1fraud)"
   ]
  },
  {
   "cell_type": "markdown",
   "id": "1099c124",
   "metadata": {},
   "source": [
    "##### As shown above, the precision and recall have improved significantly from 0.61 and 0.72 to 0.95 and 0.94, respectively. \n",
    "##### Although the overall accuracy has slightly decreased from 0.95917 to 0.941, this model performs much better on the unbalanced dataset. Therefore, it has been chosen for credit card fraud prevention."
   ]
  },
  {
   "cell_type": "markdown",
   "id": "56753966",
   "metadata": {},
   "source": [
    "## Saving the Final Model and Scalar "
   ]
  },
  {
   "cell_type": "code",
   "execution_count": null,
   "id": "1e1ac155",
   "metadata": {},
   "outputs": [],
   "source": [
    "# importing job lib to save the model\n",
    "import joblib\n",
    "joblib.dump(logmodel, 'credit_card_fraud_prediction.sav')\n",
    "\n",
    "#save the scaler for transforming new records\n",
    "joblib.dump(scaler,'credit_card_fraud_prediction_scaler.pkl')"
   ]
  },
  {
   "cell_type": "markdown",
   "id": "2e58c202",
   "metadata": {},
   "source": [
    "## Code for Deployment"
   ]
  },
  {
   "cell_type": "code",
   "execution_count": null,
   "id": "988aed33",
   "metadata": {},
   "outputs": [],
   "source": [
    "# Loads the trained logistic regression model and scaler from saved files\n",
    "model = joblib.load('credit_card_fraud_prediction.sav')\n",
    "scaler = joblib.load('credit_card_fraud_prediction_scaler.pkl')"
   ]
  },
  {
   "cell_type": "code",
   "execution_count": null,
   "id": "15488e2e",
   "metadata": {},
   "outputs": [],
   "source": [
    "# Defines a function to preprocess a sample JSON, transform it using the scaler, and return the model's prediction as 'fraudulent' or 'not fraudulent'\n",
    "def return_prediction(model,scaler,sample_json):\n",
    "    \n",
    "    ft_a = sample_json['distance_from_home']\n",
    "    ft_b = sample_json['distance_from_last_transaction']\n",
    "    ft_c = sample_json['ratio_to_median_purchase_price']\n",
    "    ft_d = sample_json['repeat_retailer']\n",
    "    ft_e = sample_json['used_chip']\n",
    "    ft_f = sample_json['used_pin_number']\n",
    "    ft_g = sample_json['online_order']\n",
    "    \n",
    "    columns = ['distance_from_home',\n",
    "                'distance_from_last_transaction',\n",
    "                'ratio_to_median_purchase_price',\n",
    "                'repeat_retailer',\n",
    "                'used_chip',\n",
    "                'used_pin_number',\n",
    "                'online_order']\n",
    "    \n",
    "    transaction = [[ft_a,ft_b,ft_c,ft_d,ft_e,ft_f,ft_g]]\n",
    "    \n",
    "    transaction = pd.DataFrame(transaction, columns = columns)\n",
    "    \n",
    "    transaction = scaler.transform(transaction)\n",
    "    \n",
    "    transaction = pd.DataFrame(transaction, columns = columns)\n",
    "    \n",
    "    classes = np.array(['not fraudulent', 'fraudulent'])\n",
    "    \n",
    "    class_ind = model.predict(transaction)\n",
    "\n",
    "    class_ind = class_ind[0]\n",
    "    \n",
    "    return classes[int(class_ind)]   "
   ]
  },
  {
   "cell_type": "markdown",
   "id": "385d9992",
   "metadata": {},
   "source": [
    "## Predicting Fraudulent and Non Fraudulent Classes Using the Function "
   ]
  },
  {
   "cell_type": "code",
   "execution_count": null,
   "id": "84d638c8",
   "metadata": {},
   "outputs": [],
   "source": [
    "# Retrieving the last row of fraudulent transactions from the DataFrame\n",
    "df_fraud2 = df[df['fraud'] == 1].tail(1)\n",
    "\n",
    "# Displays the selected row\n",
    "df_fraud2\n"
   ]
  },
  {
   "cell_type": "code",
   "execution_count": null,
   "id": "98b75990",
   "metadata": {},
   "outputs": [],
   "source": [
    "transaction_example = {'distance_from_home':15.724799,\n",
    "                        'distance_from_last_transaction':1.875906,\n",
    "                        'ratio_to_median_purchase_price':11.009366,\n",
    "                        'repeat_retailer':1.0,\n",
    "                        'used_chip':1.0,\n",
    "                        'used_pin_number':0.0,\n",
    "                        'online_order':1.0\n",
    "                       }"
   ]
  },
  {
   "cell_type": "code",
   "execution_count": null,
   "id": "dd60bb35",
   "metadata": {},
   "outputs": [],
   "source": [
    "# Returning the prediction\n",
    "return_prediction(model,scaler,transaction_example)"
   ]
  },
  {
   "cell_type": "markdown",
   "id": "e9025fa0-e157-4050-b5a0-5ee702e7e0a2",
   "metadata": {},
   "source": [
    "The transaction is correctly predicted as fraudulent"
   ]
  },
  {
   "cell_type": "code",
   "execution_count": null,
   "id": "c7c5f29b",
   "metadata": {},
   "outputs": [],
   "source": [
    "# Selecting non fraudulent transaction\n",
    "df_not_fraud = df.head(1)\n",
    "df_not_fraud"
   ]
  },
  {
   "cell_type": "code",
   "execution_count": null,
   "id": "f31642e7",
   "metadata": {},
   "outputs": [],
   "source": [
    "# Predicting a non fraudulent transaction\n",
    "df.head(1)"
   ]
  },
  {
   "cell_type": "code",
   "execution_count": null,
   "id": "2e429132",
   "metadata": {},
   "outputs": [],
   "source": [
    "transaction_example2 = {'distance_from_home':57.877857,\n",
    "                        'distance_from_last_transaction':0.31114,\n",
    "                        'ratio_to_median_purchase_price':1.94594,\n",
    "                        'repeat_retailer':1.0,\n",
    "                        'used_chip':1.0,\n",
    "                        'used_pin_number':0.0,\n",
    "                        'online_order':0.0\n",
    "                       }"
   ]
  },
  {
   "cell_type": "code",
   "execution_count": null,
   "id": "7b433386",
   "metadata": {},
   "outputs": [],
   "source": [
    "# Returning the prediction\n",
    "return_prediction(model,scaler,transaction_example2)"
   ]
  },
  {
   "cell_type": "markdown",
   "id": "1ab9ee46-03e6-4203-839c-f28b4584e2dc",
   "metadata": {},
   "source": [
    "The transaction was correctly predicted"
   ]
  }
 ],
 "metadata": {
  "kernelspec": {
   "display_name": "Python 3 (ipykernel)",
   "language": "python",
   "name": "python3"
  },
  "language_info": {
   "codemirror_mode": {
    "name": "ipython",
    "version": 3
   },
   "file_extension": ".py",
   "mimetype": "text/x-python",
   "name": "python",
   "nbconvert_exporter": "python",
   "pygments_lexer": "ipython3",
   "version": "3.11.9"
  }
 },
 "nbformat": 4,
 "nbformat_minor": 5
}
